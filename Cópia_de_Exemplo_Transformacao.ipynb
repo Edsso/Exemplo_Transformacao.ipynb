{
  "cells": [
    {
      "cell_type": "markdown",
      "metadata": {
        "id": "view-in-github",
        "colab_type": "text"
      },
      "source": [
        "<a href=\"https://colab.research.google.com/github/Edsso/Exemplo_Transformacao.ipynb/blob/main/C%C3%B3pia_de_Exemplo_Transformacao.ipynb\" target=\"_parent\"><img src=\"https://colab.research.google.com/assets/colab-badge.svg\" alt=\"Open In Colab\"/></a>"
      ]
    },
    {
      "cell_type": "markdown",
      "metadata": {
        "id": "WhZZ4pWiNx7l"
      },
      "source": [
        "Universidade do Vale do Itajaí<br>\n",
        "Escola do Mar, Ciência e Tecnologia<br>\n",
        "Professor Felipe Viel\n",
        "\n",
        "# Exemplo de Operações Pontuais e Filtro em OpenCV\n",
        "\n",
        "### Tutoriais da OpenCV\n",
        "\n",
        "- https://docs.opencv.org/master/d9/df8/tutorial_root.html\n",
        "- https://www.geeksforgeeks.org/opencv-python-tutorial/"
      ]
    },
    {
      "cell_type": "markdown",
      "metadata": {
        "id": "8KzyJbE-Nx7q"
      },
      "source": [
        "## Conversão de imagem RGB em imagem Grayscale"
      ]
    },
    {
      "cell_type": "code",
      "execution_count": null,
      "metadata": {
        "id": "SPRHcibRNx7s"
      },
      "outputs": [],
      "source": [
        "import cv2 #Import é um código para importar uma biblioteca, biblioteca \"cv2\" é para processamentos de imagens e visão computacional.\n",
        "import numpy as np #Biblioteca \"numpy\" é utilizado para operações númericas, computacionais em arrays, multidimensionais e matrizes, \"as\" serve para abreviar.\n",
        "import matplotlib.pyplot as plt #Biblioteca \"matplotlib.pyplot\" é usada para visualizar dados em Python.\n",
        "\n",
        "#caso for usar o Google Colab com a OpenCV, usar a lib abaixo\n",
        "from google.colab.patches import cv2_imshow #From é usado para importar um modulo especifico ou parte especifica de um modulo vulgo que é esse \"google.colab.patches\", e função que serve para exibir uma imagem em uma janela separada.\n"
      ]
    },
    {
      "cell_type": "code",
      "execution_count": null,
      "metadata": {
        "id": "QotrNpurNx7u"
      },
      "outputs": [],
      "source": [
        "#Abrir a imagem.\n",
        "img = cv2.imread('t1.jpg',1) #Essa função exibira a imagem especificada ('t1.jpg') em uma janela separada e ela será colorida.\n",
        "#caso for usar o Google Colab com a OpenCV.\n",
        "cv2_imshow(img) #Aqui será o caso para abrir em uma janela."
      ]
    },
    {
      "cell_type": "code",
      "execution_count": null,
      "metadata": {
        "id": "VLSzKpTtNx7v"
      },
      "outputs": [],
      "source": [
        "#Mostrando a imagem colorida - caso você use Python no seu computador.\n",
        "#Reutilize para exibir as imagens em outros códigos.\n",
        "#Voce pode descomentar o código apagando as aspas simples.\n",
        "'''\n",
        "cv2.imshow('in', img) #Entrada e saída de imagem.\n",
        "cv2.waitKey(0) #A função \"waitKey\" serve para exibir uma janela de imagem e aguardar a pressão de uma tecla pelo usuário, o argumento (0) indica que ela guardará indifinidamente até que uma tecla seja pressionada.\n",
        "cv2.destroyAllWindows() #Serve para fechar todas as janelas abertas pelo OpenCV.\n",
        "'''"
      ]
    },
    {
      "cell_type": "code",
      "execution_count": null,
      "metadata": {
        "id": "G2Q1PN3QNx7y"
      },
      "outputs": [],
      "source": [
        "#aplicando conversão ponderada - converte imagem colorida para preto e branco\n",
        "#img_grayscale_basic = 0.299*img[ : , : ,0] + 0.587*img[ : , : ,1] + 0.114*img[ : , : ,2]\n",
        "\n",
        "#cv2\n",
        "B, G, R = cv2.split(img) #Essa função permite dividir uma imagem de cores em seus canais individuais.\n",
        "img_grayscale_pondered = 0.299*B+0.587*G+0.114*R #É uma formula para converter uma imagem colorida em cinza, vulgo \"grayscale\".\n",
        "\n",
        "img_grayscale_pondered = np.array(img_grayscale_pondered, dtype=np.uint8)#Converte a variavel em array NumPy.\n",
        "\n",
        "cv2_imshow(img_grayscale_pondered) #Aqui mostraria a imagem que foi convertida em array Numpy.\n"
      ]
    },
    {
      "cell_type": "markdown",
      "metadata": {
        "id": "bA2JoZjXNx78"
      },
      "source": [
        "## Transformações"
      ]
    },
    {
      "cell_type": "code",
      "execution_count": null,
      "metadata": {
        "id": "QGSulCVYNx78"
      },
      "outputs": [],
      "source": [
        "#negativo\n",
        "\n",
        "#img_negative[ : , : ,0] = 255 - img[ : , : ,0]\n",
        "#img_negative[ : , : ,1] = 255 - img[ : , : ,1]\n",
        "#img_negative[ : , : ,2] = 255 - img[ : , : ,2]\n",
        "\n",
        "#Mude a variavel colorida para 1 caso queira colorida, o para 0 caso queira em escala de cinza\n",
        "colorida = 1 #Está atribuindo \"colorida\" em \"1\", que \"1\" significa colorida.\n",
        "img_in = cv2.imread('t1.jpg',colorida) #Essa função exibira a imagem especificada ('t1.jpg') em uma janela separada e ela será colorida.\n",
        "\n",
        "img_out = 255 - img_in #Contrate do branco para o cinza.\n",
        "\n",
        "cv2_imshow(img_in) #Aqui mostraria a imagem entrando.\n",
        "cv2_imshow(img_out) #Aqui mostraria a imagem saindo."
      ]
    },
    {
      "cell_type": "code",
      "execution_count": null,
      "metadata": {
        "id": "HMELaw10Nx8B"
      },
      "outputs": [],
      "source": [
        "#contraste e brilho\n",
        "img_in = cv2.imread('t1.jpg',0) #Essa função exibira a imagem especificada ('t1.jpg') em uma janela separada e ela será cinza.\n",
        "#altere os valores tanto de a quanto de b\n",
        "\n",
        "a = -1 #a vai ser atribuida a -1\n",
        "b = 1 #b vai ser atribuida a 1\n",
        "\n",
        "img_out = a*img_in + b #Aqui está fundindo a imagem, multiplicando -1 x img_in + 1.\n",
        "\n",
        "img_out = np.array(img_out, dtype = np.uint8) #Essa função é usada para criar um array unidimensional com os elementos 1, 2, 3, 4, e 5, o \"np.uint8\" indica que os elementos do array serão do tipo inteiro sem sinal de 8 bits.\n",
        "\n",
        "cv2_imshow(img_in) #Aqui mostraria a imagem entrando.\n",
        "cv2_imshow(img_out) #Aqui mostraria a imagem saindo."
      ]
    },
    {
      "cell_type": "markdown",
      "metadata": {
        "id": "W8UZXLnRNx8E"
      },
      "source": [
        "## Filtro Espacial"
      ]
    },
    {
      "cell_type": "code",
      "execution_count": null,
      "metadata": {
        "id": "hWxjlsd9Nx8F"
      },
      "outputs": [],
      "source": [
        "#suavização\n",
        "#você pode ler sobre o conceito aqui: https://docs.opencv.org/4.x/d4/d13/tutorial_py_filtering.html\n",
        "\n",
        "img_in = cv2.imread('t1.jpg',0) #Essa função exibira a imagem especificada ('t1.jpg') em uma janela separada e ela será cinza.\n",
        "\n",
        "kernel = np.ones((5,5),np.float32)/25 #Essa função serve para aplicar o filtro de operações de convolução.\n",
        "img_out_1 = cv2.filter2D(img_in,-1,kernel) #Essa função atribua o filtro na \"img_out_1\".\n",
        "\n",
        "\n",
        "cv2_imshow(img_in) #Aqui mostraria a imagem entrando.\n",
        "cv2_imshow(img_out_1) #Aqui mostraria a imagem saindo.\n",
        "\n"
      ]
    }
  ],
  "metadata": {
    "kernelspec": {
      "display_name": "Python 3",
      "language": "python",
      "name": "python3"
    },
    "language_info": {
      "codemirror_mode": {
        "name": "ipython",
        "version": 3
      },
      "file_extension": ".py",
      "mimetype": "text/x-python",
      "name": "python",
      "nbconvert_exporter": "python",
      "pygments_lexer": "ipython3",
      "version": "3.8.5"
    },
    "colab": {
      "provenance": [],
      "include_colab_link": true
    }
  },
  "nbformat": 4,
  "nbformat_minor": 0
}